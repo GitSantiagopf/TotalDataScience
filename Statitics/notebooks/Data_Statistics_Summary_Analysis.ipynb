{
 "cells": [
  {
   "cell_type": "code",
   "execution_count": 3,
   "metadata": {},
   "outputs": [],
   "source": [
    "import pandas as pd #For data\n",
    "import numpy as np #For operations \n",
    "from scipy.stats import trim_mean\n",
    "import matplotlib.pyplot as plt #For plot"
   ]
  },
  {
   "cell_type": "code",
   "execution_count": 32,
   "metadata": {},
   "outputs": [
    {
     "data": {
      "text/html": [
       "<div>\n",
       "<style scoped>\n",
       "    .dataframe tbody tr th:only-of-type {\n",
       "        vertical-align: middle;\n",
       "    }\n",
       "\n",
       "    .dataframe tbody tr th {\n",
       "        vertical-align: top;\n",
       "    }\n",
       "\n",
       "    .dataframe thead th {\n",
       "        text-align: right;\n",
       "    }\n",
       "</style>\n",
       "<table border=\"1\" class=\"dataframe\">\n",
       "  <thead>\n",
       "    <tr style=\"text-align: right;\">\n",
       "      <th></th>\n",
       "      <th>Place</th>\n",
       "      <th>Values</th>\n",
       "    </tr>\n",
       "  </thead>\n",
       "  <tbody>\n",
       "    <tr>\n",
       "      <th>0</th>\n",
       "      <td>James</td>\n",
       "      <td>1</td>\n",
       "    </tr>\n",
       "    <tr>\n",
       "      <th>1</th>\n",
       "      <td>Martial</td>\n",
       "      <td>2</td>\n",
       "    </tr>\n",
       "    <tr>\n",
       "      <th>2</th>\n",
       "      <td>Lionel</td>\n",
       "      <td>3</td>\n",
       "    </tr>\n",
       "    <tr>\n",
       "      <th>3</th>\n",
       "      <td>Cristiano</td>\n",
       "      <td>4</td>\n",
       "    </tr>\n",
       "    <tr>\n",
       "      <th>4</th>\n",
       "      <td>Mbappe</td>\n",
       "      <td>5</td>\n",
       "    </tr>\n",
       "  </tbody>\n",
       "</table>\n",
       "</div>"
      ],
      "text/plain": [
       "       Place  Values\n",
       "0      James       1\n",
       "1    Martial       2\n",
       "2     Lionel       3\n",
       "3  Cristiano       4\n",
       "4     Mbappe       5"
      ]
     },
     "execution_count": 32,
     "metadata": {},
     "output_type": "execute_result"
    }
   ],
   "source": [
    "# Sample data\n",
    "data = {'Name' : ['James', 'Martial', 'Lionel', 'Cristiano', 'Mbappe', 'Haland', 'Diaz', 'Cuadrado', 'James', 'Falcao'],\n",
    "        'Sons': [1, 2, 3, 4, 5, 6, 7, 8, 9, 30]}\n",
    "df = pd.DataFrame(data)\n",
    "df.head()"
   ]
  },
  {
   "cell_type": "code",
   "execution_count": 33,
   "metadata": {},
   "outputs": [],
   "source": [
    "# Mean\n",
    "mean_value = df['Values'].mean()\n",
    "\n",
    "# Median\n",
    "median_value = df['Values'].median()\n",
    "\n",
    "# Trimmed Mean (20%)\n",
    "trimmed_mean_value = trim_mean(df['Values'], proportiontocut=0.2)\n",
    "\n",
    "# Mean Absolute Deviation\n",
    "mad_value = df['Values'].mad() if hasattr(df['Values'], 'mad') else np.mean(np.abs(df['Values'] - mean_value))\n",
    "\n",
    "# Standard Deviation\n",
    "std_dev_value = df['Values'].std()\n",
    "\n",
    "# Quantiles (25%, 50%, 75%)\n",
    "quantiles = df['Values'].quantile([0.25, 0.5, 0.75])"
   ]
  },
  {
   "cell_type": "code",
   "execution_count": 34,
   "metadata": {},
   "outputs": [
    {
     "data": {
      "text/html": [
       "<div>\n",
       "<style scoped>\n",
       "    .dataframe tbody tr th:only-of-type {\n",
       "        vertical-align: middle;\n",
       "    }\n",
       "\n",
       "    .dataframe tbody tr th {\n",
       "        vertical-align: top;\n",
       "    }\n",
       "\n",
       "    .dataframe thead th {\n",
       "        text-align: right;\n",
       "    }\n",
       "</style>\n",
       "<table border=\"1\" class=\"dataframe\">\n",
       "  <thead>\n",
       "    <tr style=\"text-align: right;\">\n",
       "      <th></th>\n",
       "      <th>Mean</th>\n",
       "      <th>Median</th>\n",
       "      <th>Trimmed Mean (10%)</th>\n",
       "      <th>Mean Absolute Deviation</th>\n",
       "      <th>Standard Deviation</th>\n",
       "      <th>25% Quantile</th>\n",
       "      <th>50% Quantile (Median)</th>\n",
       "      <th>75% Quantile</th>\n",
       "    </tr>\n",
       "  </thead>\n",
       "  <tbody>\n",
       "    <tr>\n",
       "      <th>0</th>\n",
       "      <td>7.5</td>\n",
       "      <td>5.5</td>\n",
       "      <td>5.5</td>\n",
       "      <td>4.9</td>\n",
       "      <td>8.31665</td>\n",
       "      <td>3.25</td>\n",
       "      <td>5.5</td>\n",
       "      <td>7.75</td>\n",
       "    </tr>\n",
       "  </tbody>\n",
       "</table>\n",
       "</div>"
      ],
      "text/plain": [
       "   Mean  Median  Trimmed Mean (10%)  Mean Absolute Deviation  \\\n",
       "0   7.5     5.5                 5.5                      4.9   \n",
       "\n",
       "   Standard Deviation  25% Quantile  50% Quantile (Median)  75% Quantile  \n",
       "0             8.31665          3.25                    5.5          7.75  "
      ]
     },
     "execution_count": 34,
     "metadata": {},
     "output_type": "execute_result"
    }
   ],
   "source": [
    "# Display the results\n",
    "results = {\n",
    "    'Mean': mean_value,\n",
    "    'Median': median_value,\n",
    "    'Trimmed Mean (10%)': trimmed_mean_value,\n",
    "    'Mean Absolute Deviation': mad_value,\n",
    "    'Standard Deviation': std_dev_value,\n",
    "    '25% Quantile': quantiles[0.25],\n",
    "    '50% Quantile (Median)': quantiles[0.5],\n",
    "    '75% Quantile': quantiles[0.75]\n",
    "}\n",
    "\n",
    "results_df = pd.DataFrame(results, index=[0])\n",
    "results_df.head()"
   ]
  },
  {
   "cell_type": "code",
   "execution_count": 35,
   "metadata": {},
   "outputs": [],
   "source": [
    "frecuency_table = df['Values'].value_counts().sort_index()"
   ]
  },
  {
   "cell_type": "code",
   "execution_count": 36,
   "metadata": {},
   "outputs": [
    {
     "data": {
      "image/png": "[encoded data removed]",
      "text/plain": [
       "<Figure size 800x400 with 2 Axes>"
      ]
     },
     "metadata": {},
     "output_type": "display_data"
    }
   ],
   "source": [
    "fig, axes = plt.subplots(nrows = 1, ncols = 2, figsize = (8, 4))\n",
    "\n",
    "# Histogram\n",
    "axes[0].hist(df['Values'], bins=10, edgecolor='black')\n",
    "axes[0].set_title('Histogram')\n",
    "axes[0].set_xlabel('Values')\n",
    "axes[0].set_ylabel('Frequency')\n",
    "\n",
    "# Boxplot\n",
    "axes[1].boxplot(df['Values'])\n",
    "axes[1].set_title('Boxplot')\n",
    "axes[1].set_xlabel('Values')\n",
    "\n",
    "# Adding percentile annotations to the boxplot\n",
    "for percentile, value in quantiles.items():\n",
    "    axes[1].text(1.1, value, f'{int(percentile*100)}%', horizontalalignment='center', color='r')\n",
    "\n",
    "plt.tight_layout()"
   ]
  },
  {
   "cell_type": "code",
   "execution_count": null,
   "metadata": {},
   "outputs": [],
   "source": []
  }
 ],
 "metadata": {
  "kernelspec": {
   "display_name": "Python 3",
   "language": "python",
   "name": "python3"
  },
  "language_info": {
   "codemirror_mode": {
    "name": "ipython",
    "version": 3
   },
   "file_extension": ".py",
   "mimetype": "text/x-python",
   "name": "python",
   "nbconvert_exporter": "python",
   "pygments_lexer": "ipython3",
   "version": "3.9.10"
  }
 },
 "nbformat": 4,
 "nbformat_minor": 2
}
